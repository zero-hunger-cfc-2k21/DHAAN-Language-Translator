{
 "cells": [
  {
   "cell_type": "markdown",
   "metadata": {},
   "source": [
    "# This code demonstrates the capability for doing the following:\n",
    "\n",
    "1. Text to Text Language translation by converting from English to Hindi\n",
    "2. Text to audio Language translation by converting from English to German\n"
   ]
  },
  {
   "cell_type": "code",
   "execution_count": 1,
   "metadata": {},
   "outputs": [
    {
     "name": "stdout",
     "output_type": "stream",
     "text": [
      "Requirement already satisfied: ibm_watson in c:\\users\\athinarb\\anaconda3\\lib\\site-packages (5.1.0)\n",
      "Requirement already satisfied: requests<3.0,>=2.0 in c:\\users\\athinarb\\anaconda3\\lib\\site-packages (from ibm_watson) (2.24.0)\n",
      "Requirement already satisfied: websocket-client==0.48.0 in c:\\users\\athinarb\\anaconda3\\lib\\site-packages (from ibm_watson) (0.48.0)\n",
      "Requirement already satisfied: ibm-cloud-sdk-core>=3.3.6 in c:\\users\\athinarb\\anaconda3\\lib\\site-packages (from ibm_watson) (3.10.0)\n",
      "Requirement already satisfied: python-dateutil>=2.5.3 in c:\\users\\athinarb\\anaconda3\\lib\\site-packages (from ibm_watson) (2.8.1)\n",
      "Requirement already satisfied: certifi>=2017.4.17 in c:\\users\\athinarb\\anaconda3\\lib\\site-packages (from requests<3.0,>=2.0->ibm_watson) (2020.6.20)\n",
      "Requirement already satisfied: chardet<4,>=3.0.2 in c:\\users\\athinarb\\anaconda3\\lib\\site-packages (from requests<3.0,>=2.0->ibm_watson) (3.0.4)\n",
      "Requirement already satisfied: urllib3!=1.25.0,!=1.25.1,<1.26,>=1.21.1 in c:\\users\\athinarb\\anaconda3\\lib\\site-packages (from requests<3.0,>=2.0->ibm_watson) (1.25.9)\n",
      "Requirement already satisfied: idna<3,>=2.5 in c:\\users\\athinarb\\anaconda3\\lib\\site-packages (from requests<3.0,>=2.0->ibm_watson) (2.10)\n",
      "Requirement already satisfied: six in c:\\users\\athinarb\\anaconda3\\lib\\site-packages (from websocket-client==0.48.0->ibm_watson) (1.15.0)\n",
      "Requirement already satisfied: PyJWT<3.0.0,>=2.0.1 in c:\\users\\athinarb\\anaconda3\\lib\\site-packages (from ibm-cloud-sdk-core>=3.3.6->ibm_watson) (2.1.0)\n"
     ]
    }
   ],
   "source": [
    "!pip install ibm_watson"
   ]
  },
  {
   "cell_type": "code",
   "execution_count": 2,
   "metadata": {},
   "outputs": [
    {
     "name": "stdout",
     "output_type": "stream",
     "text": [
      "Requirement already satisfied: ibm_cloud_sdk_core in c:\\users\\athinarb\\anaconda3\\lib\\site-packages (3.10.0)\n",
      "Requirement already satisfied: requests<3.0,>=2.20 in c:\\users\\athinarb\\anaconda3\\lib\\site-packages (from ibm_cloud_sdk_core) (2.24.0)\n",
      "Requirement already satisfied: python-dateutil<3.0.0,>=2.5.3 in c:\\users\\athinarb\\anaconda3\\lib\\site-packages (from ibm_cloud_sdk_core) (2.8.1)\n",
      "Requirement already satisfied: PyJWT<3.0.0,>=2.0.1 in c:\\users\\athinarb\\anaconda3\\lib\\site-packages (from ibm_cloud_sdk_core) (2.1.0)\n",
      "Requirement already satisfied: idna<3,>=2.5 in c:\\users\\athinarb\\anaconda3\\lib\\site-packages (from requests<3.0,>=2.20->ibm_cloud_sdk_core) (2.10)\n",
      "Requirement already satisfied: certifi>=2017.4.17 in c:\\users\\athinarb\\anaconda3\\lib\\site-packages (from requests<3.0,>=2.20->ibm_cloud_sdk_core) (2020.6.20)\n",
      "Requirement already satisfied: chardet<4,>=3.0.2 in c:\\users\\athinarb\\anaconda3\\lib\\site-packages (from requests<3.0,>=2.20->ibm_cloud_sdk_core) (3.0.4)\n",
      "Requirement already satisfied: urllib3!=1.25.0,!=1.25.1,<1.26,>=1.21.1 in c:\\users\\athinarb\\anaconda3\\lib\\site-packages (from requests<3.0,>=2.20->ibm_cloud_sdk_core) (1.25.9)\n",
      "Requirement already satisfied: six>=1.5 in c:\\users\\athinarb\\anaconda3\\lib\\site-packages (from python-dateutil<3.0.0,>=2.5.3->ibm_cloud_sdk_core) (1.15.0)\n"
     ]
    }
   ],
   "source": [
    "!pip install ibm_cloud_sdk_core"
   ]
  },
  {
   "cell_type": "code",
   "execution_count": 3,
   "metadata": {},
   "outputs": [],
   "source": [
    "#credentials for Language Translation \n",
    "\n",
    "apiKey = \"85F10cR61mJSFha9bnrEvGJ2jopIBKLKJnH_H6kygiKu\"\n",
    "url = \"https://api.eu-gb.language-translator.watson.cloud.ibm.com/instances/033994a0-07cc-4051-99db-1df755ff86fb\""
   ]
  },
  {
   "cell_type": "code",
   "execution_count": 4,
   "metadata": {},
   "outputs": [],
   "source": [
    "#Importing Dependencies\n",
    "from ibm_cloud_sdk_core.authenticators import IAMAuthenticator\n",
    "from ibm_watson import LanguageTranslatorV3"
   ]
  },
  {
   "cell_type": "code",
   "execution_count": 5,
   "metadata": {},
   "outputs": [],
   "source": [
    "#setting up the services\n",
    "\n",
    "authenticator = IAMAuthenticator(apiKey)\n",
    "lt = LanguageTranslatorV3(version='2018-05-01', authenticator=authenticator)\n",
    "lt.set_service_url(url)"
   ]
  },
  {
   "cell_type": "code",
   "execution_count": 6,
   "metadata": {},
   "outputs": [],
   "source": [
    "#translating from English to Hindi \n",
    "\n",
    "translation = lt.translate(text='The leaf condition is good', model_id='en-hi').get_result()\n",
    "\n",
    "#Eng to German ex: \n",
    "#translation = lt.translate(text='Welcome.', model_id='en-de').get_result()"
   ]
  },
  {
   "cell_type": "code",
   "execution_count": 7,
   "metadata": {},
   "outputs": [
    {
     "name": "stdout",
     "output_type": "stream",
     "text": [
      "{'translations': [{'translation': 'पत्ती की हालत अच्छी है'}], 'word_count': 5, 'character_count': 26}\n"
     ]
    }
   ],
   "source": [
    "print (translation)"
   ]
  },
  {
   "cell_type": "code",
   "execution_count": 8,
   "metadata": {},
   "outputs": [
    {
     "data": {
      "text/plain": [
       "'पत्ती की हालत अच्छी है'"
      ]
     },
     "execution_count": 8,
     "metadata": {},
     "output_type": "execute_result"
    }
   ],
   "source": [
    "#Extracting the needed info:\n",
    "\n",
    "translation['translations'][0]['translation']"
   ]
  },
  {
   "cell_type": "code",
   "execution_count": 9,
   "metadata": {},
   "outputs": [],
   "source": [
    "#Identifying the language:\n",
    "\n",
    "languageID = lt.identify(translation).get_result()"
   ]
  },
  {
   "cell_type": "code",
   "execution_count": 10,
   "metadata": {},
   "outputs": [
    {
     "data": {
      "text/plain": [
       "{'languages': [{'language': 'en', 'confidence': 0.1535501728870781},\n",
       "  {'language': 'et', 'confidence': 0.07063134139890613},\n",
       "  {'language': 'ro', 'confidence': 0.06512108786232461},\n",
       "  {'language': 'sv', 'confidence': 0.06420421252649987},\n",
       "  {'language': 'da', 'confidence': 0.05595185145559029},\n",
       "  {'language': 'es', 'confidence': 0.054783439490395436},\n",
       "  {'language': 'nl', 'confidence': 0.0504019992862453},\n",
       "  {'language': 'it', 'confidence': 0.04593227927397767},\n",
       "  {'language': 'af', 'confidence': 0.03746414583624708},\n",
       "  {'language': 'fr', 'confidence': 0.03460147034681857},\n",
       "  {'language': 'pt', 'confidence': 0.026105476323072436},\n",
       "  {'language': 'ga', 'confidence': 0.024224763423688723},\n",
       "  {'language': 'lv', 'confidence': 0.02373471792594392},\n",
       "  {'language': 'hr', 'confidence': 0.021017848030808698},\n",
       "  {'language': 'nn', 'confidence': 0.018737914989706343},\n",
       "  {'language': 'eo', 'confidence': 0.017153532639874552},\n",
       "  {'language': 'ja', 'confidence': 0.0160786494678902},\n",
       "  {'language': 'ko', 'confidence': 0.015083269234921462},\n",
       "  {'language': 'nb', 'confidence': 0.013017522619566561},\n",
       "  {'language': 'pl', 'confidence': 0.012923499932620307},\n",
       "  {'language': 'so', 'confidence': 0.012558813702433724},\n",
       "  {'language': 'tr', 'confidence': 0.012526668692874906},\n",
       "  {'language': 'de', 'confidence': 0.011157022652580569},\n",
       "  {'language': 'vi', 'confidence': 0.010867254426211004},\n",
       "  {'language': 'tl', 'confidence': 0.01053551929219479},\n",
       "  {'language': 'ms', 'confidence': 0.010174048004072402},\n",
       "  {'language': 'sl', 'confidence': 0.00772554727043331},\n",
       "  {'language': 'hi', 'confidence': 0.007602521810376259},\n",
       "  {'language': 'az', 'confidence': 0.00729652240798498},\n",
       "  {'language': 'cs', 'confidence': 0.006490913692205387},\n",
       "  {'language': 'ar', 'confidence': 0.0064453062857270415},\n",
       "  {'language': 'sq', 'confidence': 0.006092997813812868},\n",
       "  {'language': 'ku', 'confidence': 0.006087811920318338},\n",
       "  {'language': 'zh', 'confidence': 0.006053763295699487},\n",
       "  {'language': 'fi', 'confidence': 0.005454342568541128},\n",
       "  {'language': 'sk', 'confidence': 0.004875267167121815},\n",
       "  {'language': 'eu', 'confidence': 0.004270111032956329},\n",
       "  {'language': 'ht', 'confidence': 0.004190678071856884},\n",
       "  {'language': 'hu', 'confidence': 0.002929355042320987},\n",
       "  {'language': 'is', 'confidence': 0.002825009226549427},\n",
       "  {'language': 'mt', 'confidence': 0.0026225800651690514},\n",
       "  {'language': 'he', 'confidence': 0.002609203380894634},\n",
       "  {'language': 'el', 'confidence': 0.0024837066378172886},\n",
       "  {'language': 'cy', 'confidence': 0.0021751118212788687},\n",
       "  {'language': 'th', 'confidence': 0.0019152209790023486},\n",
       "  {'language': 'ru', 'confidence': 0.0017954676921116833},\n",
       "  {'language': 'ca', 'confidence': 0.001475085395164488},\n",
       "  {'language': 'zh-TW', 'confidence': 0.0014729929283488277},\n",
       "  {'language': 'pa-PK', 'confidence': 0.0014171624841986818},\n",
       "  {'language': 'ur', 'confidence': 0.0012190555313156563},\n",
       "  {'language': 'lo', 'confidence': 0.0011878893851997646},\n",
       "  {'language': 'bg', 'confidence': 0.0009949697098535603},\n",
       "  {'language': 'kk', 'confidence': 0.0008883078402986783},\n",
       "  {'language': 'mn', 'confidence': 0.0008767449937245792},\n",
       "  {'language': 'te', 'confidence': 0.0008739447545534545},\n",
       "  {'language': 'ky', 'confidence': 0.0007689299882553702},\n",
       "  {'language': 'lt', 'confidence': 0.000710731206131961},\n",
       "  {'language': 'ta', 'confidence': 0.0007016848559255549},\n",
       "  {'language': 'be', 'confidence': 0.0006824975791196583},\n",
       "  {'language': 'hy', 'confidence': 0.0006632449257918887},\n",
       "  {'language': 'sr', 'confidence': 0.0006448837630027604},\n",
       "  {'language': 'ml', 'confidence': 0.0005944298212520688},\n",
       "  {'language': 'pa', 'confidence': 0.0005734295988954134},\n",
       "  {'language': 'cv', 'confidence': 0.0004972184441506672},\n",
       "  {'language': 'mr', 'confidence': 0.0004917475886832664},\n",
       "  {'language': 'ba', 'confidence': 0.00046373255578976806},\n",
       "  {'language': 'uk', 'confidence': 0.00043052752850425375},\n",
       "  {'language': 'ka', 'confidence': 0.0003330011006065274},\n",
       "  {'language': 'my', 'confidence': 0.0002658696619259716},\n",
       "  {'language': 'bn', 'confidence': 0.0002642636324378439},\n",
       "  {'language': 'gu', 'confidence': 0.0002466666789468598},\n",
       "  {'language': 'si', 'confidence': 0.00023573557684918703},\n",
       "  {'language': 'ps', 'confidence': 0.00019581543098124194},\n",
       "  {'language': 'km', 'confidence': 0.00017587397884510228},\n",
       "  {'language': 'ne', 'confidence': 0.0001232064258024323},\n",
       "  {'language': 'fa', 'confidence': 5.0396730722515885e-05}]}"
      ]
     },
     "execution_count": 10,
     "metadata": {},
     "output_type": "execute_result"
    }
   ],
   "source": [
    "languageID"
   ]
  },
  {
   "cell_type": "markdown",
   "metadata": {},
   "source": [
    "# Perfoming Language Translation and Text to Speech\n"
   ]
  },
  {
   "cell_type": "code",
   "execution_count": 11,
   "metadata": {},
   "outputs": [],
   "source": [
    "#Credentials for Text to Speech\n",
    "\n",
    "ttsapikey  = \"gQMWPvSP6NyU03qpufv2f6FyEEX4jYK4jVipQodbYqe2\"\n",
    "ttsurl  = \"https://api.eu-gb.text-to-speech.watson.cloud.ibm.com/instances/ae3533a6-4455-47fc-9e5f-e12952472aab\""
   ]
  },
  {
   "cell_type": "code",
   "execution_count": 12,
   "metadata": {},
   "outputs": [],
   "source": [
    "from ibm_watson import TextToSpeechV1"
   ]
  },
  {
   "cell_type": "code",
   "execution_count": 13,
   "metadata": {},
   "outputs": [],
   "source": [
    "# Authenticate\n",
    "ttsauthenticator = IAMAuthenticator(ttsapikey)\n",
    "tts = TextToSpeechV1(authenticator=ttsauthenticator)\n",
    "tts.set_service_url(ttsurl)"
   ]
  },
  {
   "cell_type": "code",
   "execution_count": 14,
   "metadata": {},
   "outputs": [],
   "source": [
    "#English to German [as audio translation to Hindi is \"unavailable\" within IBM we are trying with another language ]\n",
    "\n",
    "translation = lt.translate(text='The leaf got a viral infection. Please take action', model_id='en-de').get_result()"
   ]
  },
  {
   "cell_type": "code",
   "execution_count": 15,
   "metadata": {},
   "outputs": [
    {
     "data": {
      "text/plain": [
       "{'translations': [{'translation': 'Das Blatt bekam eine Virusinfektion. Bitte handeln'}],\n",
       " 'word_count': 10,\n",
       " 'character_count': 50}"
      ]
     },
     "execution_count": 15,
     "metadata": {},
     "output_type": "execute_result"
    }
   ],
   "source": [
    "translation"
   ]
  },
  {
   "cell_type": "code",
   "execution_count": 16,
   "metadata": {},
   "outputs": [
    {
     "data": {
      "text/plain": [
       "'Das Blatt bekam eine Virusinfektion. Bitte handeln'"
      ]
     },
     "execution_count": 16,
     "metadata": {},
     "output_type": "execute_result"
    }
   ],
   "source": [
    "\n",
    "text = translation['translations'][0]['translation']\n",
    "text"
   ]
  },
  {
   "cell_type": "code",
   "execution_count": 17,
   "metadata": {},
   "outputs": [],
   "source": [
    "with open('./recommendation.mp3', 'wb') as audio_file:\n",
    "    res = tts.synthesize(text, accept='audio/mp3', voice='de-DE_BirgitV3Voice').get_result()\n",
    "    #res = tts.synthesize(text, accept='audio/mp3').get_result()\n",
    "    audio_file.write(res.content)"
   ]
  },
  {
   "cell_type": "markdown",
   "metadata": {},
   "source": [
    "# End"
   ]
  }
 ],
 "metadata": {
  "kernelspec": {
   "display_name": "Python 3",
   "language": "python",
   "name": "python3"
  },
  "language_info": {
   "codemirror_mode": {
    "name": "ipython",
    "version": 3
   },
   "file_extension": ".py",
   "mimetype": "text/x-python",
   "name": "python",
   "nbconvert_exporter": "python",
   "pygments_lexer": "ipython3",
   "version": "3.8.3"
  }
 },
 "nbformat": 4,
 "nbformat_minor": 4
}
